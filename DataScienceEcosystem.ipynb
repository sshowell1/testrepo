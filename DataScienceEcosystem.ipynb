{
 "cells": [
  {
   "cell_type": "markdown",
   "id": "7819e70c-1f9a-40bc-98b3-84a89918df8a",
   "metadata": {},
   "source": [
    "#### Data Science Tools and Ecosystem"
   ]
  },
  {
   "cell_type": "markdown",
   "id": "8a8e113b-b467-47da-a3a6-c05a2f648792",
   "metadata": {},
   "source": [
    "In this notebook, Data Science Tools and Ecosystem are sumarized."
   ]
  },
  {
   "cell_type": "markdown",
   "id": "0fe3a720-38ff-4ea4-a865-ff186f5e8bd8",
   "metadata": {},
   "source": [
    "** Objectives:"
   ]
  },
  {
   "cell_type": "markdown",
   "id": "de6b4341-da38-450b-b9ea-64f921869e8a",
   "metadata": {},
   "source": [
    "- Languages\n",
    "- Libraries\n",
    "- Tools"
   ]
  },
  {
   "cell_type": "markdown",
   "id": "3e288773-6192-44cd-8dca-73dffe254528",
   "metadata": {},
   "source": [
    "Some of the popular languages that Data Scientists use are:"
   ]
  },
  {
   "cell_type": "markdown",
   "id": "ce3cded7-3f5c-4edd-8567-9e4c298b7527",
   "metadata": {},
   "source": [
    "1. Python\n",
    "2. R\n",
    "3. SQL"
   ]
  },
  {
   "cell_type": "markdown",
   "id": "62465494-bd3e-4970-918e-9007f45adf45",
   "metadata": {},
   "source": [
    "Some of the commonly used libraries used by Data Scientists include:"
   ]
  },
  {
   "cell_type": "markdown",
   "id": "10817691-0bf8-4f1a-86e8-13abca7d9dbc",
   "metadata": {},
   "source": [
    "1. Pandas\n",
    "2. NumPy\n",
    "3. Plotly"
   ]
  },
  {
   "cell_type": "markdown",
   "id": "77d97fdc-6d2f-4d9d-bb4a-164539ca3720",
   "metadata": {},
   "source": [
    "## Data Science Tools"
   ]
  },
  {
   "cell_type": "markdown",
   "id": "fdc109a2-67d0-471c-ab8f-62e04226c2c0",
   "metadata": {},
   "source": [
    "| Tableau | Pytorch | Jupyter Notebooks |"
   ]
  },
  {
   "cell_type": "markdown",
   "id": "4c149b20-787e-4d9a-95c9-e7eaeb4498c5",
   "metadata": {},
   "source": [
    "This a simple arithmetic expression to multiply then add integers."
   ]
  },
  {
   "cell_type": "code",
   "execution_count": 12,
   "id": "64bf0c3c-470d-4cd3-89f1-294d1df1d619",
   "metadata": {},
   "outputs": [
    {
     "data": {
      "text/plain": [
       "17"
      ]
     },
     "execution_count": 12,
     "metadata": {},
     "output_type": "execute_result"
    }
   ],
   "source": [
    "(3*4) + 5"
   ]
  },
  {
   "cell_type": "markdown",
   "id": "a0ce2e6e-b582-492c-bdde-94ebc8463f55",
   "metadata": {},
   "source": [
    "This will convert 200 minutes to hours by diving by 60"
   ]
  },
  {
   "cell_type": "code",
   "execution_count": 52,
   "id": "58e009f8-0e2a-4472-8346-bb738508a9d8",
   "metadata": {},
   "outputs": [
    {
     "data": {
      "text/plain": [
       "3.3333333333333335"
      ]
     },
     "execution_count": 52,
     "metadata": {},
     "output_type": "execute_result"
    }
   ],
   "source": [
    "200/60"
   ]
  },
  {
   "cell_type": "markdown",
   "id": "def716bd-13b1-4373-89e4-822b2b392311",
   "metadata": {},
   "source": [
    "## Author"
   ]
  },
  {
   "cell_type": "markdown",
   "id": "eb066cf3-78bc-4b0a-91fa-4d7f46e9351f",
   "metadata": {},
   "source": [
    "### Steve Howell"
   ]
  },
  {
   "cell_type": "code",
   "execution_count": null,
   "id": "b6eb79ec-e190-4960-af92-5a5db338059b",
   "metadata": {},
   "outputs": [],
   "source": []
  }
 ],
 "metadata": {
  "kernelspec": {
   "display_name": "anaconda-panel-2023.05-py310",
   "language": "python",
   "name": "conda-env-anaconda-panel-2023.05-py310-py"
  },
  "language_info": {
   "codemirror_mode": {
    "name": "ipython",
    "version": 3
   },
   "file_extension": ".py",
   "mimetype": "text/x-python",
   "name": "python",
   "nbconvert_exporter": "python",
   "pygments_lexer": "ipython3",
   "version": "3.11.5"
  }
 },
 "nbformat": 4,
 "nbformat_minor": 5
}
